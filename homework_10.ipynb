{
  "cells": [
    {
      "cell_type": "markdown",
      "metadata": {
        "id": "L7BOnGIPEx2i"
      },
      "source": [
        "# Практическое задание 10. «Работа с табличными данными, Построение графиков»"
      ]
    },
    {
      "cell_type": "markdown",
      "metadata": {
        "id": "SenJQE0zEwma"
      },
      "source": [
        "**10.1[44]**: Дан код, генерирующий DataFrame, которая состоит всего из 1 столбца. Ваша задача перевести его в one hot вид.\n",
        "\n",
        "Статья про one hot вид https://colab.research.google.com/drive/1qKamnDiRmpRZkpiqWPkunBdAhmzhMcGz?usp=sharing\n",
        "- Сделайте one hot вид с использованием get_dummies\n",
        "- Сделайте one hot вид с использованием изученных методов группировки данных. Обратите внимание, что Nan это не ноль."
      ]
    },
    {
      "cell_type": "code",
      "execution_count": null,
      "metadata": {
        "id": "iwHwESldEq6w"
      },
      "outputs": [
        {
          "ename": "",
          "evalue": "",
          "output_type": "error",
          "traceback": [
            "\u001b[1;31mДля выполнения ячеек с \"Python 3.11.1 64-bit\" требуется пакет ipykernel.\n",
            "\u001b[1;31mВыполните следующую команду, чтобы установить \"ipykernel\" в среде Python. \n",
            "\u001b[1;31mКоманда: \"c:/Users/Артём/Downloads/python-3.11.1-embed-amd64/python.exe -m pip install ipykernel -U --force-reinstall\""
          ]
        }
      ],
      "source": [
        "import random"
      ]
    },
    {
      "cell_type": "code",
      "execution_count": null,
      "metadata": {
        "id": "NgHzmmjRE2-7"
      },
      "outputs": [
        {
          "ename": "",
          "evalue": "",
          "output_type": "error",
          "traceback": [
            "\u001b[1;31mДля выполнения ячеек с \"Python 3.11.1 64-bit\" требуется пакет ipykernel.\n",
            "\u001b[1;31mВыполните следующую команду, чтобы установить \"ipykernel\" в среде Python. \n",
            "\u001b[1;31mКоманда: \"c:/Users/Артём/Downloads/python-3.11.1-embed-amd64/python.exe -m pip install ipykernel -U --force-reinstall\""
          ]
        }
      ],
      "source": [
        "import pandas as pd"
      ]
    },
    {
      "cell_type": "code",
      "execution_count": null,
      "metadata": {
        "id": "NopGa5GGE3Bm"
      },
      "outputs": [
        {
          "ename": "",
          "evalue": "",
          "output_type": "error",
          "traceback": [
            "\u001b[1;31mДля выполнения ячеек с \"Python 3.11.1 64-bit\" требуется пакет ipykernel.\n",
            "\u001b[1;31mВыполните следующую команду, чтобы установить \"ipykernel\" в среде Python. \n",
            "\u001b[1;31mКоманда: \"c:/Users/Артём/Downloads/python-3.11.1-embed-amd64/python.exe -m pip install ipykernel -U --force-reinstall\""
          ]
        }
      ],
      "source": [
        "lst = ['robot'] * 10"
      ]
    },
    {
      "cell_type": "code",
      "execution_count": null,
      "metadata": {
        "id": "neFdZ45gE3EM"
      },
      "outputs": [
        {
          "ename": "",
          "evalue": "",
          "output_type": "error",
          "traceback": [
            "\u001b[1;31mДля выполнения ячеек с \"Python 3.11.1 64-bit\" требуется пакет ipykernel.\n",
            "\u001b[1;31mВыполните следующую команду, чтобы установить \"ipykernel\" в среде Python. \n",
            "\u001b[1;31mКоманда: \"c:/Users/Артём/Downloads/python-3.11.1-embed-amd64/python.exe -m pip install ipykernel -U --force-reinstall\""
          ]
        }
      ],
      "source": [
        "lst += ['human'] * 10"
      ]
    },
    {
      "cell_type": "code",
      "execution_count": null,
      "metadata": {
        "id": "dQlZWmlIE3Oz"
      },
      "outputs": [
        {
          "ename": "",
          "evalue": "",
          "output_type": "error",
          "traceback": [
            "\u001b[1;31mДля выполнения ячеек с \"Python 3.11.1 64-bit\" требуется пакет ipykernel.\n",
            "\u001b[1;31mВыполните следующую команду, чтобы установить \"ipykernel\" в среде Python. \n",
            "\u001b[1;31mКоманда: \"c:/Users/Артём/Downloads/python-3.11.1-embed-amd64/python.exe -m pip install ipykernel -U --force-reinstall\""
          ]
        }
      ],
      "source": [
        "random.shuffle(lst)"
      ]
    },
    {
      "cell_type": "code",
      "execution_count": null,
      "metadata": {
        "id": "L-YwavaFFZzA"
      },
      "outputs": [
        {
          "ename": "",
          "evalue": "",
          "output_type": "error",
          "traceback": [
            "\u001b[1;31mДля выполнения ячеек с \"Python 3.11.1 64-bit\" требуется пакет ipykernel.\n",
            "\u001b[1;31mВыполните следующую команду, чтобы установить \"ipykernel\" в среде Python. \n",
            "\u001b[1;31mКоманда: \"c:/Users/Артём/Downloads/python-3.11.1-embed-amd64/python.exe -m pip install ipykernel -U --force-reinstall\""
          ]
        }
      ],
      "source": [
        "data = pd.DataFrame({'whoAmI':lst})"
      ]
    },
    {
      "cell_type": "code",
      "execution_count": null,
      "metadata": {
        "colab": {
          "base_uri": "https://localhost:8080/",
          "height": 206
        },
        "id": "OzN9w9KVFZU8",
        "outputId": "89af003e-3fec-4b29-b47c-ee49bc31f80d"
      },
      "outputs": [
        {
          "ename": "",
          "evalue": "",
          "output_type": "error",
          "traceback": [
            "\u001b[1;31mДля выполнения ячеек с \"Python 3.11.1 64-bit\" требуется пакет ipykernel.\n",
            "\u001b[1;31mВыполните следующую команду, чтобы установить \"ipykernel\" в среде Python. \n",
            "\u001b[1;31mКоманда: \"c:/Users/Артём/Downloads/python-3.11.1-embed-amd64/python.exe -m pip install ipykernel -U --force-reinstall\""
          ]
        }
      ],
      "source": [
        "data.head()"
      ]
    },
    {
      "cell_type": "code",
      "execution_count": null,
      "metadata": {
        "colab": {
          "base_uri": "https://localhost:8080/",
          "height": 677
        },
        "id": "aTvfEP6sJBJf",
        "outputId": "fba5e2a0-2fb0-43f8-fc0a-e04ac2fb2ae8"
      },
      "outputs": [
        {
          "ename": "",
          "evalue": "",
          "output_type": "error",
          "traceback": [
            "\u001b[1;31mДля выполнения ячеек с \"Python 3.11.1 64-bit\" требуется пакет ipykernel.\n",
            "\u001b[1;31mВыполните следующую команду, чтобы установить \"ipykernel\" в среде Python. \n",
            "\u001b[1;31mКоманда: \"c:/Users/Артём/Downloads/python-3.11.1-embed-amd64/python.exe -m pip install ipykernel -U --force-reinstall\""
          ]
        }
      ],
      "source": [
        "data"
      ]
    },
    {
      "cell_type": "code",
      "execution_count": null,
      "metadata": {
        "colab": {
          "base_uri": "https://localhost:8080/",
          "height": 677
        },
        "id": "R7_gaRjPHsft",
        "outputId": "fcdf5e29-853c-4dd6-d680-92d872355c80"
      },
      "outputs": [
        {
          "ename": "",
          "evalue": "",
          "output_type": "error",
          "traceback": [
            "\u001b[1;31mДля выполнения ячеек с \"Python 3.11.1 64-bit\" требуется пакет ipykernel.\n",
            "\u001b[1;31mВыполните следующую команду, чтобы установить \"ipykernel\" в среде Python. \n",
            "\u001b[1;31mКоманда: \"c:/Users/Артём/Downloads/python-3.11.1-embed-amd64/python.exe -m pip install ipykernel -U --force-reinstall\""
          ]
        }
      ],
      "source": [
        "pd.get_dummies(data['whoAmI'])"
      ]
    },
    {
      "cell_type": "code",
      "execution_count": null,
      "metadata": {
        "id": "nFCDQuAaJBPz"
      },
      "outputs": [
        {
          "ename": "",
          "evalue": "",
          "output_type": "error",
          "traceback": [
            "\u001b[1;31mДля выполнения ячеек с \"Python 3.11.1 64-bit\" требуется пакет ipykernel.\n",
            "\u001b[1;31mВыполните следующую команду, чтобы установить \"ipykernel\" в среде Python. \n",
            "\u001b[1;31mКоманда: \"c:/Users/Артём/Downloads/python-3.11.1-embed-amd64/python.exe -m pip install ipykernel -U --force-reinstall\""
          ]
        }
      ],
      "source": [
        "data.loc[data['whoAmI'] == 'human', 'human'] = '1'\n",
        "data.loc[data['whoAmI'] == 'human', 'robot'] = '0'\n",
        "data.loc[data['whoAmI'] == 'robot', 'robot'] = '1'\n",
        "data.loc[data['whoAmI'] == 'robot', 'human'] = '0'"
      ]
    },
    {
      "cell_type": "code",
      "execution_count": null,
      "metadata": {
        "colab": {
          "base_uri": "https://localhost:8080/",
          "height": 206
        },
        "id": "qay-t6b9O2Em",
        "outputId": "100f139c-f0be-48cb-fda1-ef1aac27f3e6"
      },
      "outputs": [
        {
          "ename": "",
          "evalue": "",
          "output_type": "error",
          "traceback": [
            "\u001b[1;31mДля выполнения ячеек с \"Python 3.11.1 64-bit\" требуется пакет ipykernel.\n",
            "\u001b[1;31mВыполните следующую команду, чтобы установить \"ipykernel\" в среде Python. \n",
            "\u001b[1;31mКоманда: \"c:/Users/Артём/Downloads/python-3.11.1-embed-amd64/python.exe -m pip install ipykernel -U --force-reinstall\""
          ]
        }
      ],
      "source": [
        "data.head()"
      ]
    },
    {
      "cell_type": "code",
      "execution_count": null,
      "metadata": {
        "colab": {
          "base_uri": "https://localhost:8080/",
          "height": 677
        },
        "id": "iaL6gc4-JBT-",
        "outputId": "146c3ed0-3aa1-4ded-b51f-df42ce154c7e"
      },
      "outputs": [
        {
          "ename": "",
          "evalue": "",
          "output_type": "error",
          "traceback": [
            "\u001b[1;31mДля выполнения ячеек с \"Python 3.11.1 64-bit\" требуется пакет ipykernel.\n",
            "\u001b[1;31mВыполните следующую команду, чтобы установить \"ipykernel\" в среде Python. \n",
            "\u001b[1;31mКоманда: \"c:/Users/Артём/Downloads/python-3.11.1-embed-amd64/python.exe -m pip install ipykernel -U --force-reinstall\""
          ]
        }
      ],
      "source": [
        "data"
      ]
    }
  ],
  "metadata": {
    "colab": {
      "provenance": []
    },
    "kernelspec": {
      "display_name": "Python 3.11.1 64-bit",
      "language": "python",
      "name": "python3"
    },
    "language_info": {
      "name": "python",
      "version": "3.11.1"
    },
    "vscode": {
      "interpreter": {
        "hash": "d690912be5ac977d9038436e143a406e078e22f40c9ca65502ed7ea493903d2e"
      }
    }
  },
  "nbformat": 4,
  "nbformat_minor": 0
}
