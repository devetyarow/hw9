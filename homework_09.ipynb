{
  "cells": [
    {
      "cell_type": "markdown",
      "metadata": {
        "id": "eiA5k-vT_pPi"
      },
      "source": [
        "# Практическое задание 9. «Работа с табличными данными»"
      ]
    },
    {
      "cell_type": "markdown",
      "metadata": {
        "id": "62ooY8o2_zwI"
      },
      "source": [
        "**9.1[40]**: Работа в Google Colab. Файл california_housing_train.csv, который находится в папке sample_data.\n",
        "\n",
        "**Для домов, где кол-во людей от 0 до 500 (population) вывести информацию о цене дома(median_house_value):**\n",
        "- максимальное значение\n",
        "- минимальное значение\n",
        "- среднее\n",
        "- медиану"
      ]
    },
    {
      "cell_type": "code",
      "execution_count": null,
      "metadata": {
        "id": "vDlq_SnUAFyo"
      },
      "outputs": [
        {
          "ename": "",
          "evalue": "",
          "output_type": "error",
          "traceback": [
            "\u001b[1;31mДля выполнения ячеек с \"Python 3.11.1 64-bit\" требуется пакет ipykernel.\n",
            "\u001b[1;31mВыполните следующую команду, чтобы установить \"ipykernel\" в среде Python. \n",
            "\u001b[1;31mКоманда: \"c:/Users/Артём/Downloads/python-3.11.1-embed-amd64/python.exe -m pip install ipykernel -U --force-reinstall\""
          ]
        }
      ],
      "source": [
        "import pandas as pd"
      ]
    },
    {
      "cell_type": "code",
      "execution_count": null,
      "metadata": {
        "id": "3Ym0YGGkAF1q"
      },
      "outputs": [
        {
          "ename": "",
          "evalue": "",
          "output_type": "error",
          "traceback": [
            "\u001b[1;31mДля выполнения ячеек с \"Python 3.11.1 64-bit\" требуется пакет ipykernel.\n",
            "\u001b[1;31mВыполните следующую команду, чтобы установить \"ipykernel\" в среде Python. \n",
            "\u001b[1;31mКоманда: \"c:/Users/Артём/Downloads/python-3.11.1-embed-amd64/python.exe -m pip install ipykernel -U --force-reinstall\""
          ]
        }
      ],
      "source": [
        "df = pd.read_csv('sample_data/california_housing_train.csv')"
      ]
    },
    {
      "cell_type": "code",
      "execution_count": null,
      "metadata": {
        "colab": {
          "base_uri": "https://localhost:8080/",
          "height": 206
        },
        "id": "PU_WL_nGAGCP",
        "outputId": "a72b0ceb-f423-4227-eb7b-94eb2ecdb31c"
      },
      "outputs": [
        {
          "ename": "",
          "evalue": "",
          "output_type": "error",
          "traceback": [
            "\u001b[1;31mДля выполнения ячеек с \"Python 3.11.1 64-bit\" требуется пакет ipykernel.\n",
            "\u001b[1;31mВыполните следующую команду, чтобы установить \"ipykernel\" в среде Python. \n",
            "\u001b[1;31mКоманда: \"c:/Users/Артём/Downloads/python-3.11.1-embed-amd64/python.exe -m pip install ipykernel -U --force-reinstall\""
          ]
        }
      ],
      "source": [
        "df.head()"
      ]
    },
    {
      "cell_type": "code",
      "execution_count": null,
      "metadata": {
        "colab": {
          "base_uri": "https://localhost:8080/",
          "height": 424
        },
        "id": "2bS9icuBAmv5",
        "outputId": "7778fe9b-76ba-484f-d121-35707b264504"
      },
      "outputs": [
        {
          "ename": "",
          "evalue": "",
          "output_type": "error",
          "traceback": [
            "\u001b[1;31mДля выполнения ячеек с \"Python 3.11.1 64-bit\" требуется пакет ipykernel.\n",
            "\u001b[1;31mВыполните следующую команду, чтобы установить \"ipykernel\" в среде Python. \n",
            "\u001b[1;31mКоманда: \"c:/Users/Артём/Downloads/python-3.11.1-embed-amd64/python.exe -m pip install ipykernel -U --force-reinstall\""
          ]
        }
      ],
      "source": [
        "df[(df['population'] <= 500)]"
      ]
    },
    {
      "cell_type": "code",
      "execution_count": null,
      "metadata": {
        "colab": {
          "base_uri": "https://localhost:8080/"
        },
        "id": "389wKx3GAm3P",
        "outputId": "aff36ecd-393c-4440-bb42-1284aefa9b19"
      },
      "outputs": [
        {
          "ename": "",
          "evalue": "",
          "output_type": "error",
          "traceback": [
            "\u001b[1;31mДля выполнения ячеек с \"Python 3.11.1 64-bit\" требуется пакет ipykernel.\n",
            "\u001b[1;31mВыполните следующую команду, чтобы установить \"ipykernel\" в среде Python. \n",
            "\u001b[1;31mКоманда: \"c:/Users/Артём/Downloads/python-3.11.1-embed-amd64/python.exe -m pip install ipykernel -U --force-reinstall\""
          ]
        }
      ],
      "source": [
        "df[df['population'] <= 500]['median_house_value']"
      ]
    },
    {
      "cell_type": "code",
      "execution_count": null,
      "metadata": {
        "colab": {
          "base_uri": "https://localhost:8080/"
        },
        "id": "knHT_ci8BmAW",
        "outputId": "fc42f517-ab6f-4e32-fbab-5e0ff9dac8ed"
      },
      "outputs": [
        {
          "ename": "",
          "evalue": "",
          "output_type": "error",
          "traceback": [
            "\u001b[1;31mДля выполнения ячеек с \"Python 3.11.1 64-bit\" требуется пакет ipykernel.\n",
            "\u001b[1;31mВыполните следующую команду, чтобы установить \"ipykernel\" в среде Python. \n",
            "\u001b[1;31mКоманда: \"c:/Users/Артём/Downloads/python-3.11.1-embed-amd64/python.exe -m pip install ipykernel -U --force-reinstall\""
          ]
        }
      ],
      "source": [
        "df[df['population'] <= 500]['median_house_value'].max()"
      ]
    },
    {
      "cell_type": "code",
      "execution_count": null,
      "metadata": {
        "colab": {
          "base_uri": "https://localhost:8080/"
        },
        "id": "xkYlKDaHBmC-",
        "outputId": "bdc32d5f-5f78-4169-9996-b3fabbe1554e"
      },
      "outputs": [
        {
          "ename": "",
          "evalue": "",
          "output_type": "error",
          "traceback": [
            "\u001b[1;31mДля выполнения ячеек с \"Python 3.11.1 64-bit\" требуется пакет ipykernel.\n",
            "\u001b[1;31mВыполните следующую команду, чтобы установить \"ipykernel\" в среде Python. \n",
            "\u001b[1;31mКоманда: \"c:/Users/Артём/Downloads/python-3.11.1-embed-amd64/python.exe -m pip install ipykernel -U --force-reinstall\""
          ]
        }
      ],
      "source": [
        "df[df['population'] <= 500]['median_house_value'].min()"
      ]
    },
    {
      "cell_type": "code",
      "execution_count": null,
      "metadata": {
        "colab": {
          "base_uri": "https://localhost:8080/"
        },
        "id": "rSsdx_8fBsHM",
        "outputId": "7f349553-8f78-4815-fd1b-80b129ea1079"
      },
      "outputs": [
        {
          "ename": "",
          "evalue": "",
          "output_type": "error",
          "traceback": [
            "\u001b[1;31mДля выполнения ячеек с \"Python 3.11.1 64-bit\" требуется пакет ipykernel.\n",
            "\u001b[1;31mВыполните следующую команду, чтобы установить \"ipykernel\" в среде Python. \n",
            "\u001b[1;31mКоманда: \"c:/Users/Артём/Downloads/python-3.11.1-embed-amd64/python.exe -m pip install ipykernel -U --force-reinstall\""
          ]
        }
      ],
      "source": [
        "df[df['population'] <= 500]['median_house_value'].mean()"
      ]
    },
    {
      "cell_type": "code",
      "execution_count": null,
      "metadata": {
        "colab": {
          "base_uri": "https://localhost:8080/"
        },
        "id": "3SEBWPt9BsPt",
        "outputId": "52b8db35-0e52-47dc-a3dc-e52b088740f1"
      },
      "outputs": [
        {
          "ename": "",
          "evalue": "",
          "output_type": "error",
          "traceback": [
            "\u001b[1;31mДля выполнения ячеек с \"Python 3.11.1 64-bit\" требуется пакет ipykernel.\n",
            "\u001b[1;31mВыполните следующую команду, чтобы установить \"ipykernel\" в среде Python. \n",
            "\u001b[1;31mКоманда: \"c:/Users/Артём/Downloads/python-3.11.1-embed-amd64/python.exe -m pip install ipykernel -U --force-reinstall\""
          ]
        }
      ],
      "source": [
        "df[df['population'] <= 500]['median_house_value'].median()"
      ]
    },
    {
      "cell_type": "markdown",
      "metadata": {
        "id": "Z5WCyiVS_87v"
      },
      "source": [
        "**9.2[42]**: Работа в Google Colab. Файл california_housing_train.csv, который находится в папке sample_data.\n",
        "\n",
        "**Узнать какая максимальная households в зоне минимального значения population**"
      ]
    },
    {
      "cell_type": "code",
      "execution_count": null,
      "metadata": {
        "colab": {
          "base_uri": "https://localhost:8080/"
        },
        "id": "dpYDN1Sa_Ytc",
        "outputId": "acbff3d8-13ed-41d8-b94f-35d39314fadb"
      },
      "outputs": [
        {
          "ename": "",
          "evalue": "",
          "output_type": "error",
          "traceback": [
            "\u001b[1;31mДля выполнения ячеек с \"Python 3.11.1 64-bit\" требуется пакет ipykernel.\n",
            "\u001b[1;31mВыполните следующую команду, чтобы установить \"ipykernel\" в среде Python. \n",
            "\u001b[1;31mКоманда: \"c:/Users/Артём/Downloads/python-3.11.1-embed-amd64/python.exe -m pip install ipykernel -U --force-reinstall\""
          ]
        }
      ],
      "source": [
        "df[df[\"population\"].min() == df[\"population\"]][\"households\"].max()"
      ]
    }
  ],
  "metadata": {
    "colab": {
      "provenance": []
    },
    "kernelspec": {
      "display_name": "Python 3.11.1 64-bit",
      "language": "python",
      "name": "python3"
    },
    "language_info": {
      "name": "python",
      "version": "3.11.1"
    },
    "vscode": {
      "interpreter": {
        "hash": "d690912be5ac977d9038436e143a406e078e22f40c9ca65502ed7ea493903d2e"
      }
    }
  },
  "nbformat": 4,
  "nbformat_minor": 0
}
